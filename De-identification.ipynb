{
 "worksheets": [
  {
   "cells": [
    {
     "cell_type": "heading",
     "metadata": {},
     "level": 4,
     "source": [
      "Import de-identification functions from datafly_v4.py"
     ]
    },
    {
     "cell_type": "code",
     "execution_count": null,
     "metadata": {},
     "outputs": [],
     "input": [
      "from de_id_functions import *\n",
      "import numpy as np\n",
      "import pylab as P\n",
      "import pandas as pd\n",
      "from decimal import *"
     ],
     "language": "python"
    },
    {
     "cell_type": "heading",
     "metadata": {},
     "level": 4,
     "source": [
      "Additional functions not included in the de_id_functions.py file."
     ]
    },
    {
     "cell_type": "code",
     "execution_count": null,
     "metadata": {},
     "outputs": [],
     "input": [
      "def utilValues(cursor, tableName, varName):\n",
      "    \"\"\"\n",
      "    cursor: sqlite cursor object\n",
      "    tableName: string, name of sqlite table\n",
      "    varName: string, name of variable to analyze\n",
      "    takes values of an integer or float variable and returns the \n",
      "    mean, standard deviation, and entropy\n",
      "    \"\"\"\n",
      "    entQry = selUnique(cursor, tableName, varName)\n",
      "    entropy = shannonEntropy(entQry)\n",
      "    cursor.execute(\"SELECT \"+varName+\" FROM \"+tableName)\n",
      "    qry = cursor.fetchall()\n",
      "    qry = colToList(qry)\n",
      "    qry2 = textToFloat(qry)\n",
      "    if len(qry2)==0:\n",
      "        print \"No values could be converted to numbers\"\n",
      "        return\n",
      "    qryArray = np.array(qry2)\n",
      "    mean = qryArray.mean()\n",
      "    sd = qryArray.std()\n",
      "    return entropy, mean, sd"
     ],
     "language": "python"
    },
    {
     "cell_type": "code",
     "execution_count": null,
     "metadata": {},
     "outputs": [],
     "input": [
      "def binAvg(cursor, tableName, nomVarName, numVarName):\n",
      "    \"\"\"\n",
      "    cursor: sqlite cursor object\n",
      "    tableName: string, name of sqlite table\n",
      "    nomVarName: string, name of variable with nominal categories\n",
      "    numVarName: string, name of corresponding variable with numeric values\n",
      "    For two columns, one a categorical string representation (generalization)\n",
      "    of the numeric values in another column (for example column A \n",
      "    contains \"10-15\" and then column B contains the actual values \n",
      "    that are in that bin), will give a bin-level average of the true values\n",
      "    in that bin. Designed as a tool to help improve the quality of a \n",
      "    binned (aka 'generalized') dataset. \n",
      "    \"\"\"\n",
      "    newVarName = nomVarName+\"_avg\"\n",
      "    getcontext().prec = 2\n",
      "    bins = selUnique(cursor,tableName,nomVarName)\n",
      "    avgDic = {}\n",
      "    for cat in bins:\n",
      "        cursor.execute(\"SELECT \"+numVarName+\" FROM \"+tableName+\" WHERE \"+nomVarName+\" = '\"+cat[0]+\"'\")\n",
      "        qry = cursor.fetchall()\n",
      "        qry = colToList(qry)\n",
      "        qry2 = textToFloat(qry)\n",
      "        if len(qry2)==0:\n",
      "            print \"No values could be converted to numbers: \"+str(cat[0])\n",
      "            continue\n",
      "        qryArray = np.array(qry2)\n",
      "        mean = qryArray.mean()\n",
      "        mean = Decimal(mean)\n",
      "        mean = round(mean,2)\n",
      "        avgDic[cat[0]] = str(mean)\n",
      "    try:\n",
      "        addColumn(cursor,tableName,newVarName)\n",
      "        varIndex(cursor,tableName,newVarName)\n",
      "    except:\n",
      "        print \"column \"+newVarName+\" already exists, overwriting...\"\n",
      "        cursor.execute(\"UPDATE \"+tableName+\" SET \"+newVarName+\" = 'null'\")\n",
      "    dataUpdate(cursor,tableName,nomVarName,avgDic,True,newVarName)"
     ],
     "language": "python"
    },
    {
     "cell_type": "code",
     "execution_count": null,
     "metadata": {},
     "outputs": [],
     "input": [
      "def utilMatrix(cursor, tableName, varList):\n",
      "    \"\"\"\n",
      "    cursor: sqlite cursor object\n",
      "    tableName: string, name of sqlite table\n",
      "    varList: list of utility variables, in format indigenous\n",
      "    to this program, which is the format that results\n",
      "    from the sqlite \"Pragma table_info()\" command.\n",
      "    This function creates a Pandas dataframe/matrix of the entropy,\n",
      "    mean, and standard deviation of the utility variables, \n",
      "    index is the variable name, and columns are the statistics\n",
      "    \"\"\"\n",
      "    varNames = []\n",
      "    for var in varList:\n",
      "        varNames.append(var[1])\n",
      "    entropies = np.array([])\n",
      "    sds = np.array([])\n",
      "    means = np.array([])\n",
      "    uMatrix = pd.DataFrame(columns = [\"Entropy\",\"Mean\",\"SD\"], index = varNames)\n",
      "    for var in varNames:\n",
      "        ent, mean, sd = utilValues(cursor, tableName, var)\n",
      "        uMatrix.ix[var] = [ent, mean, sd]\n",
      "    return uMatrix"
     ],
     "language": "python"
    },
    {
     "cell_type": "code",
     "execution_count": null,
     "metadata": {},
     "outputs": [],
     "input": [
      "def textToFloat(txtList):\n",
      "    \"\"\"\n",
      "    txtList: list of text values\n",
      "    returns a list of float values, \n",
      "    skips values that cannot be converted\n",
      "    \"\"\"\n",
      "    numList = []\n",
      "    for i in txtList:\n",
      "        try: numList.append(float(i))\n",
      "        except: pass\n",
      "    return numList"
     ],
     "language": "python"
    },
    {
     "cell_type": "code",
     "execution_count": null,
     "metadata": {},
     "outputs": [],
     "input": [
      "def lDiversity(cursor, tableName, kkeyVar, senVar):\n",
      "    \"\"\"\n",
      "    cursor: sqlite3 cursor object                                                                                                                                                                \n",
      "    tableName: string, name of main table\n",
      "    kkeyVar: string, name of variable that contains concatenation of all quasi-identifiers\n",
      "    senVar: string, name of variable whose value you do not want disclosed\n",
      "    Checks a dataset for \"l-diversity\", namely that in a k-anonymous block of records\n",
      "    if the sensitive value is homogeonous, then you have effectively disclosed the \n",
      "    value of the sensitive record. Bluntly sets sensitive variable to blank if not l-diverse\n",
      "    \"\"\"\n",
      "    qry = selUnique(cursor, tableName, kkeyVar)\n",
      "    for i in qry:\n",
      "        cursor.execute('SELECT '+senVar+' FROM '+tableName+' WHERE '+kkeyVar+' = \"'+i[0]+'\" GROUP BY '+senVar)\n",
      "        qry2 = cursor.fetchall()\n",
      "        if len(qry2) == 1:\n",
      "            cursor.execute('UPDATE '+tableName+' SET '+senVar+' = \" \" WHERE '+kkeyVar+' = \"'+i[0]+'\"')"
     ],
     "language": "python"
    },
    {
     "cell_type": "code",
     "execution_count": null,
     "metadata": {},
     "outputs": [],
     "input": [
      "def optimumDrop2(cursor, tableName, userVar, k, nonUniqueList, nComb=1):\n",
      "    \"\"\"                                                                                                                                                                                          \n",
      "    cursor: sqlite3 cursor object                                                                                                                                                                \n",
      "    tableName: string, name of main table                                                                                                                                                        \n",
      "    userVar: string, name of userid var                                                                                                                                                          \n",
      "    k: int, minimum cell size                                                                                                                                                                    \n",
      "    nonUniqueList: list of course_combo values already cleared for k-anonymity                                                                                                                   \n",
      "    nComb: int, number of courses to try to drop, default 1                                                                                                                                      \n",
      "    iteratively tries 'dropping' one course for all of the records                                                                                                                               \n",
      "    that are flagged as having a unique combo of courses                                                                                                                                         \n",
      "    then measures the entropy of the resulting group, and                                                                                                                                        \n",
      "    returns the position in courseList of the course to drop, along with the                                                                                                                     \n",
      "    course_combo values that will benefit from the drop                                                                                                                                          \n",
      "    \"\"\"\n",
      "    qry = courseUserQry(cursor, tableName, userVar, 'True')\n",
      "    if len(qry)==0:\n",
      "        return qry\n",
      "    posLen = len(qry[0][0]) #assumes first variable in each tuple is the course combo, finds num of positions to change                                                                          \n",
      "    preList = qry[:]\n",
      "    preCombos = []\n",
      "    for i in preList:\n",
      "        preCombos.append(i[0])\n",
      "    preEntropy = shannonEntropy(preList)\n",
      "    postEntList = []\n",
      "    preCount = 0\n",
      "    for n in qry:\n",
      "        preCount += n[1]\n",
      "    print preCount\n",
      "    iterTemp = itertools.combinations(range(posLen),nComb)\n",
      "    dropCombos = []\n",
      "    while True:\n",
      "        try: dropCombos.append(iterTemp.next())\n",
      "        except: break\n",
      "    for i in dropCombos:\n",
      "        #print \"dropCombo:\"\n",
      "        #print i\n",
      "        postList = []\n",
      "        tmpList = qry[:]\n",
      "        for j in tmpList:\n",
      "            newString = \"\"\n",
      "            for l in range(posLen):\n",
      "                if l in i:\n",
      "                    newString+=\"0\"\n",
      "                else:\n",
      "                    newString+=j[0][l]\n",
      "            postList.append((newString,j[1]))\n",
      "        try:\n",
      "            cursor.execute(\"DROP TABLE coursedrop\")\n",
      "            cursor.execute(\"CREATE TABLE coursedrop (course_combo text, Count integer)\")\n",
      "        except:\n",
      "            cursor.execute(\"CREATE TABLE coursedrop (course_combo text, Count integer)\")\n",
      "        cursor.executemany(\"INSERT INTO coursedrop VALUES (?,?)\",postList)\n",
      "        cursor.execute(\"SELECT course_combo, SUM(Count) FROM coursedrop GROUP BY course_combo\")\n",
      "        postQry = cursor.fetchall()\n",
      "        postEntropy = shannonEntropy(postQry)\n",
      "        postCount = 0\n",
      "        for item in postQry:\n",
      "            postCount += item[1]\n",
      "        changeVals = []\n",
      "        for k in range(len(i)):\n",
      "            oldSpots = []\n",
      "            iterTemp = itertools.combinations(i,k+1)\n",
      "            while True:\n",
      "                try: oldSpots.append(iterTemp.next())\n",
      "                except: break\n",
      "            for l in oldSpots:\n",
      "                for m in postQry:\n",
      "                    mList = list(m[0])\n",
      "                    for n in l:\n",
      "                        mList[n] = '1'\n",
      "                    oldString = ''\n",
      "                    for p in mList:\n",
      "                        oldString+=p\n",
      "                    if m[1]>=k and oldString in preCombos:\n",
      "                        changeVals.append(oldString)\n",
      "                    elif (m[0] in nonUniqueList) and oldString in preCombos:\n",
      "                        changeVals.append(oldString)\n",
      "        #print \"Length of ChangeVals: \"+str(len(changeVals))\n",
      "        if len(changeVals)>0:\n",
      "            postEntList.append((i,preEntropy-postEntropy,changeVals))\n",
      "    if len(postEntList) == 0:\n",
      "        return []\n",
      "    first = True\n",
      "    low = (99,99,[])\n",
      "    for n in postEntList:\n",
      "        if n[1]<low[1] and n[1] > 0.0:\n",
      "            low = n\n",
      "    return low"
     ],
     "language": "python"
    },
    {
     "cell_type": "code",
     "execution_count": null,
     "metadata": {},
     "outputs": [],
     "input": [
      "def userKanon2(cursor, tableName, userVar, courseVar, k):\n",
      "    \"\"\"                                                                                                                                                                                          \n",
      "    cursor: sqlite cursor object                                                                                                                                                                 \n",
      "    tableName: string, name of table                                                                                                                                                             \n",
      "    userVar: string, name of userid variable                                                                                                                                                     \n",
      "    courseVar: string, name of course variable                                                                                                                                                   \n",
      "    k: minimum group size                                                                                                                                                                        \n",
      "    creates a unique row record that is combo of                                                                                                                                                 \n",
      "    courseid and userid, and then creates another variable                                                                                                                                       \n",
      "    that says which courses someone has taken                                                                                                                                                    \n",
      "    then checks for unique count of courses taken                                                                                                                                                \n",
      "    and unique combinations of courses                                                                                                                                                           \n",
      "    \"\"\"\n",
      "    courseList = courseComboUpdate(cursor,tableName,userVar,courseVar)\n",
      "    value, uniqueList, nonUniqueList = uniqUserCheck(cursor,tableName,userVar,k)\n",
      "    uniqUserFlag(cursor, tableName, uniqueList)\n",
      "    dropNum = 1\n",
      "    courseDrops = {}\n",
      "    while value != 0.0 and dropNum != 16:  \n",
      "        print \"DropNum: \"+str(dropNum)\n",
      "        print \"non-anon value: \"+str(value)\n",
      "        courseTup = optimumDrop2(cursor, tableName, userVar, k, nonUniqueList,dropNum)\n",
      "        #print \"courseTup returned from OptimumDrop:\"\n",
      "        if len(courseTup) == 0 or len(courseTup[2])==0:\n",
      "            dropNum +=1 \n",
      "            print \"no more changes can be made, trying \"+str(dropNum)+\" courses at a time\"   \n",
      "            return courseDrops\n",
      "        #print courseTup[:2]  \n",
      "        courseNums = courseTup[0]\n",
      "        #print \"courseNums:\"\n",
      "        #print courseNums\n",
      "        changeVals = courseTup[2]\n",
      "        print \"length of changeVals\"\n",
      "        print len(changeVals)\n",
      "        for i in courseNums:\n",
      "            courseName = courseList[i]\n",
      "            print \"dropping courseName:\"\n",
      "            print courseName\n",
      "            courseDrops = courseDropper2(cursor, tableName, courseVar, courseName, changeVals, courseDrops)\n",
      "        courseList = courseComboUpdate(cursor,tableName,userVar,courseVar)\n",
      "        value, uniqueList, nonUniqueList = uniqUserCheck(cursor,tableName,userVar,k)\n",
      "        uniqUserFlag(cursor, tableName, uniqueList)\n",
      "    return courseDrops"
     ],
     "language": "python"
    },
    {
     "cell_type": "code",
     "execution_count": null,
     "metadata": {},
     "outputs": [],
     "input": [
      "def courseDropper2(cursor, tableName, courseVar, courseName, changeVals, courseDict={}):\n",
      "    \"\"\"                                                                                                                                                                                          \n",
      "    courseName: string, name of course to be dropped                                                                                                                                             \n",
      "    changeVals: list of strings, values of course_combo to drop                                                                                                                                  \n",
      "    courseDict: dictionary of courses and running tally of rows dropped                                                                                                                          \n",
      "    drops course record where course equals courseName                                                                                                                                           \n",
      "    AND uniqUserFlag = \"True\"                                                                                                                                                                    \n",
      "    \"\"\"\n",
      "    delCount = 0\n",
      "    #print \"len of changeVals: \"+str(len(changeVals))\n",
      "    for val in changeVals:\n",
      "        cursor.execute(\"SELECT SUM(Count) FROM \"+tableName+\" WHERE (\"+courseVar+\" = '\"+courseName+\"' AND uniqUserFlag = 'True' AND course_combo = '\"+val+\"')\")\n",
      "        qry = cursor.fetchall()\n",
      "        #print \"changeVal qry length:\"+str(len(qry))\n",
      "        if (qry[0][0]): delCount += qry[0][0]\n",
      "    print \"delCount: \"+str(delCount)\n",
      "    if delCount == 0:\n",
      "        return courseDict\n",
      "    if courseName in courseDict.keys():\n",
      "        courseDict[courseName] += delCount\n",
      "    else:\n",
      "        courseDict[courseName] = delCount\n",
      "    #confirm = raw_input(\"Confirm you want to delete \"+str(delCount)+\" records associated with \"+courseName+\" (y/n): \")\n",
      "    #if confirm == 'n':\n",
      "    #    return\n",
      "    #elif confirm == 'y':\n",
      "    for val in changeVals:\n",
      "        cursor.execute(\"DELETE FROM \"+tableName+\" WHERE (\"+courseVar+\" = '\"+courseName+\"' AND uniqUserFlag = 'True' AND course_combo = '\"+val+\"')\")\n",
      "    #else:\n",
      "    #    print \"invalid choice, exiting function\"\n",
      "    return courseDict"
     ],
     "language": "python"
    },
    {
     "cell_type": "code",
     "execution_count": null,
     "metadata": {},
     "outputs": [],
     "input": [
      "def kAnonIter(cursor, tableName, k, outFile):\n",
      "    \"\"\"                                                                                                                                                                                          \n",
      "    cursor: sqlite cursor object                                                                                                                                                                 \n",
      "    tableName: string, name of table                                                                                                                                                             \n",
      "    k: minimum group size                                                                                                                                                                        \n",
      "    wrapper function, gets list of variables from user input,                                                                                                                                    \n",
      "    updates kkey, checks for k-anonymity                                                                                                                                                         \n",
      "    \"\"\"\n",
      "    coreVarList = qiPicker(cursor, tableName)\n",
      "    optVarList = qiPicker(cursor, tableName)\n",
      "    iterVarList = coreVarList\n",
      "    addList = []\n",
      "    kkeyUpdate(cursor, tableName, iterVarList)\n",
      "    varIndex = 0\n",
      "    a,b = isTableKanonymous(cursor, tableName,k)\n",
      "    results = [('core',b)]\n",
      "    for var in optVarList:\n",
      "        iterVarList.append(optVarList[varIndex])\n",
      "        print iterVarList\n",
      "        addList.append(optVarList[varIndex])\n",
      "        print addList\n",
      "        results.append((addList,))\n",
      "        kkeyUpdate(cursor, tableName, iterVarList)\n",
      "        a,b = isTableKanonymous(cursor,tableName,k)\n",
      "        varIndex += 1\n",
      "        results[varIndex] += (b,)\n",
      "    outFile.write(str(results))\n",
      "    return results"
     ],
     "language": "python"
    },
    {
     "cell_type": "heading",
     "metadata": {},
     "level": 4,
     "source": [
      "Name the file containing the data,\n",
      "name the database,\n",
      "and name commonly-used database variables.\n",
      "NOTE: make updates here if file specification changes"
     ]
    },
    {
     "cell_type": "code",
     "execution_count": null,
     "metadata": {},
     "outputs": [],
     "input": [
      "file = \"person_course_harvardxdb+mitxdb_2014_01_17a.csv\"\n",
      "table = \"source\"\n",
      "userVar = \"user_id\"\n",
      "courseVar = \"course_id\"\n",
      "countryVar = \"final_cc\"\n",
      "k=5"
     ],
     "language": "python"
    },
    {
     "cell_type": "code",
     "execution_count": null,
     "metadata": {},
     "outputs": [],
     "input": [
      "#choose a name for the database and then connect to it\n",
      "db = 'kaPC_1-17-4-17-14-3.db'\n",
      "c = dbOpen(db)"
     ],
     "language": "python"
    },
    {
     "cell_type": "heading",
     "metadata": {},
     "level": 4,
     "source": [
      "Load data into SQLite database"
     ]
    },
    {
     "cell_type": "code",
     "execution_count": null,
     "metadata": {},
     "outputs": [],
     "input": [
      "sourceLoad(c,file,table)"
     ],
     "language": "python"
    },
    {
     "cell_type": "heading",
     "metadata": {},
     "level": 4,
     "source": [
      "Load data into another table to make comparisons to the original data"
     ]
    },
    {
     "cell_type": "code",
     "execution_count": null,
     "metadata": {},
     "outputs": [],
     "input": [
      "sourceLoad(c,file,\"original\")"
     ],
     "language": "python"
    },
    {
     "cell_type": "heading",
     "metadata": {},
     "level": 4,
     "source": [
      "Drop the timestamp from the date fields."
     ]
    },
    {
     "cell_type": "code",
     "execution_count": null,
     "metadata": {},
     "outputs": [],
     "input": [
      "dateSplit(c,table,\"start_time\")\n",
      "dateSplit(c,table,\"last_event\")"
     ],
     "language": "python"
    },
    {
     "cell_type": "code",
     "execution_count": null,
     "metadata": {},
     "outputs": [],
     "input": [
      "c.execute(\"SELECT name FROM sqlite_master WHERE type='table';\")\n",
      "c.fetchall()"
     ],
     "language": "python"
    },
    {
     "cell_type": "heading",
     "metadata": {},
     "level": 4,
     "source": [
      "Load column names into a variable called varList"
     ]
    },
    {
     "cell_type": "code",
     "execution_count": null,
     "metadata": {},
     "outputs": [],
     "input": [
      "c.execute(\"Pragma table_info(\"+table+\")\")\n",
      "varList = c.fetchall()\n",
      "varList"
     ],
     "language": "python"
    },
    {
     "cell_type": "heading",
     "metadata": {},
     "level": 4,
     "source": [
      "Add indices"
     ]
    },
    {
     "cell_type": "code",
     "execution_count": null,
     "metadata": {},
     "outputs": [],
     "input": [
      "varIndex(c,table,courseVar)\n",
      "varIndex(c,table,userVar)"
     ],
     "language": "python"
    },
    {
     "cell_type": "code",
     "execution_count": null,
     "metadata": {},
     "outputs": [],
     "input": [
      "c.execute(\"CREATE INDEX \"+courseVar+\"_idx2 ON original (\"+courseVar+\")\")\n",
      "c.execute(\"CREATE INDEX \"+userVar+\"_idx2 ON original (\"+userVar+\")\")"
     ],
     "language": "python"
    },
    {
     "cell_type": "heading",
     "metadata": {},
     "level": 4,
     "source": [
      "Get initial count of records loaded"
     ]
    },
    {
     "cell_type": "code",
     "execution_count": null,
     "metadata": {},
     "outputs": [],
     "input": [
      "c.execute(\"SELECT SUM(Count) FROM \"+table)\n",
      "c.fetchall()"
     ],
     "language": "python"
    },
    {
     "cell_type": "heading",
     "metadata": {},
     "level": 4,
     "source": [
      "Map country codes to country names, load table of country name to continent mappings"
     ]
    },
    {
     "cell_type": "code",
     "execution_count": null,
     "metadata": {},
     "outputs": [],
     "input": [
      "countryNamer(c,table,countryVar)\n",
      "contImport(c, table, \"country_continent\", countryVar+\"_cname\")"
     ],
     "language": "python"
    },
    {
     "cell_type": "heading",
     "metadata": {},
     "level": 4,
     "source": [
      "Delete staff"
     ]
    },
    {
     "cell_type": "code",
     "execution_count": null,
     "metadata": {},
     "outputs": [],
     "input": [
      "c.execute(\"DELETE FROM \"+table+\" WHERE (roles = 'instructor' or roles = 'staff')\")"
     ],
     "language": "python"
    },
    {
     "cell_type": "code",
     "execution_count": null,
     "metadata": {},
     "outputs": [],
     "input": [
      "c.execute(\"DELETE FROM original WHERE (roles = 'instructor' or roles = 'staff')\")"
     ],
     "language": "python"
    },
    {
     "cell_type": "heading",
     "metadata": {},
     "level": 4,
     "source": [
      "Generate anonymous userIDs, choose prefix that will describe the data release, here 'MHxPC13' refers to MITx/HarvardX Person-Course AY2013"
     ]
    },
    {
     "cell_type": "code",
     "execution_count": null,
     "metadata": {},
     "outputs": [],
     "input": [
      "idGen(c,table,userVar,\"MHxPC13\")"
     ],
     "language": "python"
    },
    {
     "cell_type": "heading",
     "metadata": {},
     "level": 4,
     "source": [
      "Get initial entropy reading"
     ]
    },
    {
     "cell_type": "code",
     "execution_count": null,
     "metadata": {},
     "outputs": [],
     "input": [
      "addColumn(c,table,'entropy')\n",
      "varIndex(c,table,'entropy')\n",
      "kkeyUpdate(c, table,varList,'entropy')"
     ],
     "language": "python"
    },
    {
     "cell_type": "code",
     "execution_count": null,
     "metadata": {},
     "outputs": [],
     "input": [
      "qry = selUnique(c,table,'entropy')"
     ],
     "language": "python"
    },
    {
     "cell_type": "code",
     "execution_count": null,
     "metadata": {},
     "outputs": [],
     "input": [
      "beginEntropy = shannonEntropy(qry)\n",
      "beginEntropy"
     ],
     "language": "python"
    },
    {
     "cell_type": "heading",
     "metadata": {},
     "level": 4,
     "source": [
      "Create utility Matrix (both for unmodified dataset and current dataset)"
     ]
    },
    {
     "cell_type": "code",
     "execution_count": null,
     "metadata": {},
     "outputs": [],
     "input": [
      "utilVars = varList[4:7]+[varList[13]]+[varList[16]]+varList[21:25]\n",
      "utilVars"
     ],
     "language": "python"
    },
    {
     "cell_type": "code",
     "execution_count": null,
     "metadata": {},
     "outputs": [],
     "input": [
      "preUmatrix = utilMatrix(c,\"original\",utilVars)"
     ],
     "language": "python"
    },
    {
     "cell_type": "code",
     "execution_count": null,
     "metadata": {},
     "outputs": [],
     "input": [
      "preUmatrix"
     ],
     "language": "python"
    },
    {
     "cell_type": "code",
     "execution_count": null,
     "metadata": {},
     "outputs": [],
     "input": [
      "uMatrix = utilMatrix(c,table,utilVars)"
     ],
     "language": "python"
    },
    {
     "cell_type": "code",
     "execution_count": null,
     "metadata": {},
     "outputs": [],
     "input": [
      "uMatrix"
     ],
     "language": "python"
    },
    {
     "cell_type": "code",
     "execution_count": null,
     "metadata": {},
     "outputs": [],
     "input": [
      "uMatrix - preUmatrix\n",
      "#removed rows for user k-anonymity"
     ],
     "language": "python"
    },
    {
     "cell_type": "heading",
     "metadata": {},
     "level": 4,
     "source": [
      "Establish user-wise k-anonymity (the removal of registrations that uniquely identify someone based on combination of courses registered for)"
     ]
    },
    {
     "cell_type": "code",
     "execution_count": null,
     "metadata": {},
     "outputs": [],
     "input": [
      "courseDrops = userKanon2(c, table, userVar, courseVar, k)"
     ],
     "language": "python"
    },
    {
     "cell_type": "code",
     "execution_count": null,
     "metadata": {},
     "outputs": [],
     "input": [
      "for course in courseDrops.keys():\n",
      "    print \"Dropped \"+str(courseDrops[course])+\" rows for course \"+course"
     ],
     "language": "python"
    },
    {
     "cell_type": "code",
     "execution_count": null,
     "metadata": {},
     "outputs": [],
     "input": [
      "c.execute(\"SELECT SUM(Count) FROM \"+table+\" WHERE uniqUserFlag = 'True'\")                                                                                                                \n",
      "qry = c.fetchall()                                                                                                                           \n",
      "print \"Deleted \"+str(qry[0][0])+\" additional records for users with unique combinations of courses.\\n\"                                                                                   \n",
      "c.execute(\"DELETE FROM \"+table+\" WHERE uniqUserFlag = 'True'\")"
     ],
     "language": "python"
    },
    {
     "cell_type": "code",
     "execution_count": null,
     "metadata": {},
     "outputs": [],
     "input": [
      "kkeyUpdate(c, table,varList[:26],'entropy')"
     ],
     "language": "python"
    },
    {
     "cell_type": "code",
     "execution_count": null,
     "metadata": {},
     "outputs": [],
     "input": [
      "qry = selUnique(c,table,'entropy')\n",
      "tmpEntropy = shannonEntropy(qry)"
     ],
     "language": "python"
    },
    {
     "cell_type": "code",
     "execution_count": null,
     "metadata": {},
     "outputs": [],
     "input": [
      "tmpEntropy"
     ],
     "language": "python"
    },
    {
     "cell_type": "code",
     "execution_count": null,
     "metadata": {},
     "outputs": [],
     "input": [
      "entChg = 2**beginEntropy - 2**tmpEntropy"
     ],
     "language": "python"
    },
    {
     "cell_type": "code",
     "execution_count": null,
     "metadata": {},
     "outputs": [],
     "input": [
      "entChg\n",
      "#This one after User-K-Anonymity"
     ],
     "language": "python"
    },
    {
     "cell_type": "heading",
     "metadata": {},
     "level": 4,
     "source": [
      "Replace country names with continent names"
     ]
    },
    {
     "cell_type": "code",
     "execution_count": null,
     "metadata": {},
     "outputs": [],
     "input": [
      "initContVal = 5000\n",
      "contSwap(c,table,\"final_cc_cname\",\"continent\",initContVal)\n",
      "#outFile.write(\"Inserting continent names for countries with fewer than \"+str(initContVal)+\"\\n\")"
     ],
     "language": "python"
    },
    {
     "cell_type": "heading",
     "metadata": {},
     "level": 4,
     "source": [
      "Make gender variable that treats NA and missing as same"
     ]
    },
    {
     "cell_type": "code",
     "execution_count": null,
     "metadata": {},
     "outputs": [],
     "input": [
      "try:\n",
      "    addColumn(c,table,\"gender_DI\")\n",
      "    varIndex(c,table,\"gender_DI\")\n",
      "    simpleUpdate(c,table,\"gender_DI\",\"NULL\")\n",
      "    c.execute(\"UPDATE \"+table+\" SET gender_DI = gender\")\n",
      "    c.execute(\"UPDATE \"+table+\" SET gender_DI = '' WHERE gender_DI = 'NA'\")\n",
      "except:\n",
      "    c.execute(\"UPDATE \"+table+\" SET gender_DI = gender\")\n",
      "    c.execute(\"UPDATE \"+table+\" SET gender_DI = '' WHERE gender_DI = 'NA'\")"
     ],
     "language": "python"
    },
    {
     "cell_type": "heading",
     "metadata": {},
     "level": 4,
     "source": [
      "Get k-anonymity reading"
     ]
    },
    {
     "cell_type": "code",
     "execution_count": null,
     "metadata": {},
     "outputs": [],
     "input": [
      "status, value = kAnonWrap(c,table,k)\n",
      "print \"Percent of records that will need to be deleted to be k-anonymous: \"+str(value)+\"\\n\"\n",
      "#outFile.write( \"Percent of records that will need to be deleted to be k-anonymous: \"+str(value)+\"\\n\")"
     ],
     "language": "python"
    },
    {
     "cell_type": "heading",
     "metadata": {},
     "level": 4,
     "source": [
      "Check k-anonymity for records with some null values"
     ]
    },
    {
     "cell_type": "code",
     "execution_count": null,
     "metadata": {},
     "outputs": [],
     "input": [
      "print \"checking k-anonymity for records with some null values\"\n",
      "print datetime.datetime.now().time()\n",
      "#outFile.write(\"checking k-anonymity for records with some null values\\n\")\n",
      "#outFile.write(str(datetime.datetime.now().time())+\"\\n\")\n",
      "iterKcheck(c,table,k)"
     ],
     "language": "python"
    },
    {
     "cell_type": "code",
     "execution_count": null,
     "metadata": {},
     "outputs": [],
     "input": [
      "def eduClean(cursor, tableName, loeVar):\n",
      "    try: \n",
      "        addColumn(cursor,tableName,loeVar+\"_DI\")\n",
      "        varIndex(cursor,tableName,loeVar+\"_DI\")\n",
      "    except:\n",
      "        simpleUpdate(cursor,tableName,loeVar+\"_DI\",\"NULL\")\n",
      "    ed_dict = {'':'', 'NA':'NA','a':'Secondary','b':\"Bachelor's\",'el':'Less than Secondary',\n",
      "               'hs':'Secondary','jhs':'Less than Secondary','learn':'','m':\"Master's\",'none':'',\n",
      "               'other':'','p':'Doctorate','p_oth':'Doctorate','p_se':'Doctorate'}\n",
      "    qry = selUnique(cursor,tableName,loeVar)\n",
      "    for row in qry:\n",
      "        if row[0] in ed_dict.keys():\n",
      "            cursor.execute('UPDATE '+tableName+' SET '+loeVar+'_DI = \"'+ed_dict[row[0]]+'\" WHERE '+loeVar+' = \"'+row[0]+'\"')"
     ],
     "language": "python"
    },
    {
     "cell_type": "code",
     "execution_count": null,
     "metadata": {},
     "outputs": [],
     "input": [
      "eduClean(c,table,\"LoE\")"
     ],
     "language": "python"
    },
    {
     "cell_type": "code",
     "execution_count": null,
     "metadata": {},
     "outputs": [],
     "input": [
      "selUnique(c,table,\"LoE\")"
     ],
     "language": "python"
    },
    {
     "cell_type": "code",
     "execution_count": null,
     "metadata": {},
     "outputs": [],
     "input": [
      "selUnique(c,table,\"LoE_DI\")"
     ],
     "language": "python"
    },
    {
     "cell_type": "code",
     "execution_count": null,
     "metadata": {},
     "outputs": [],
     "input": [
      "#change 0 values to text in order to exclude them from the binning procedure\n",
      "c.execute(\"UPDATE source SET nforum_posts = 'zero' WHERE nforum_posts = '0'\")"
     ],
     "language": "python"
    },
    {
     "cell_type": "heading",
     "metadata": {},
     "level": 4,
     "source": [
      "The Tailfinder function can help to group a long tail of one variable into a text field (see more documentation in the de_id_functions.py file)"
     ]
    },
    {
     "cell_type": "code",
     "execution_count": null,
     "metadata": {},
     "outputs": [],
     "input": [
      "tailFinder(c,table,\"nforum_posts\",5)"
     ],
     "language": "python"
    },
    {
     "cell_type": "code",
     "execution_count": null,
     "metadata": {},
     "outputs": [],
     "input": [
      "numBinner(c,table,\"nforum_posts_DI\")"
     ],
     "language": "python"
    },
    {
     "cell_type": "code",
     "execution_count": null,
     "metadata": {},
     "outputs": [],
     "input": [
      "binAvg(c,table,\"nforum_posts_DI\",\"nforum_posts\")"
     ],
     "language": "python"
    },
    {
     "cell_type": "code",
     "execution_count": null,
     "metadata": {},
     "outputs": [],
     "input": [
      "selUnique(c,table,\"nforum_posts_DI_avg\")"
     ],
     "language": "python"
    },
    {
     "cell_type": "code",
     "execution_count": null,
     "metadata": {},
     "outputs": [],
     "input": [
      "tailFinder(c,table,\"YoB\",50)"
     ],
     "language": "python"
    },
    {
     "cell_type": "code",
     "execution_count": null,
     "metadata": {},
     "outputs": [],
     "input": [
      "numBinner(c,table,\"YoB_DI\",bw=2)"
     ],
     "language": "python"
    },
    {
     "cell_type": "code",
     "execution_count": null,
     "metadata": {},
     "outputs": [],
     "input": [
      "selUnique(c,table,\"YoB_DI\")"
     ],
     "language": "python"
    },
    {
     "cell_type": "code",
     "execution_count": null,
     "metadata": {},
     "outputs": [],
     "input": [
      "kAnonWrap(c,table,k)"
     ],
     "language": "python"
    },
    {
     "cell_type": "code",
     "execution_count": null,
     "metadata": {},
     "outputs": [],
     "input": [
      "lDiversity(c,table,\"kkey\",\"grade\")"
     ],
     "language": "python"
    },
    {
     "cell_type": "heading",
     "metadata": {},
     "level": 4,
     "source": [
      "Needed an incomplete flag for internally inconsistent records. This is described more in the documentation with the data release."
     ]
    },
    {
     "cell_type": "code",
     "execution_count": null,
     "metadata": {},
     "outputs": [],
     "input": [
      "addColumn(c,table,\"incomplete_flag\")"
     ],
     "language": "python"
    },
    {
     "cell_type": "code",
     "execution_count": null,
     "metadata": {},
     "outputs": [],
     "input": [
      "varIndex(c,table,\"incomplete_flag\")"
     ],
     "language": "python"
    },
    {
     "cell_type": "code",
     "execution_count": null,
     "metadata": {},
     "outputs": [],
     "input": [
      "c.execute(\"SELECT SUM(Count) FROM source WHERE nevents = '' AND nchapters != ''\")\n",
      "qry = c.fetchall()\n",
      "print qry\n",
      "c.execute(\"SELECT SUM(Count) FROM source WHERE nevents = '' AND nforum_posts != '0'\")\n",
      "qry = c.fetchall()\n",
      "print qry\n",
      "c.execute(\"SELECT SUM(Count) FROM source WHERE nevents = '' AND ndays_act != ''\")\n",
      "qry = c.fetchall()\n",
      "print qry"
     ],
     "language": "python"
    },
    {
     "cell_type": "code",
     "execution_count": null,
     "metadata": {},
     "outputs": [],
     "input": [
      "c.execute(\"UPDATE source SET incomplete_flag = '1' WHERE nevents = '' AND nchapters != ''\")"
     ],
     "language": "python"
    },
    {
     "cell_type": "code",
     "execution_count": null,
     "metadata": {},
     "outputs": [],
     "input": [
      "c.execute(\"UPDATE source SET incomplete_flag = '1' WHERE nevents = '' AND nforum_posts != '0'\")"
     ],
     "language": "python"
    },
    {
     "cell_type": "code",
     "execution_count": null,
     "metadata": {},
     "outputs": [],
     "input": [
      "c.execute(\"UPDATE source SET incomplete_flag = '1' WHERE nevents = '' AND ndays_act != ''\")"
     ],
     "language": "python"
    },
    {
     "cell_type": "code",
     "execution_count": null,
     "metadata": {},
     "outputs": [],
     "input": [
      "c.execute(\"SELECT * FROM source WHERE incomplete_flag = '1'\")"
     ],
     "language": "python"
    },
    {
     "cell_type": "code",
     "execution_count": null,
     "metadata": {},
     "outputs": [],
     "input": [
      "qry = c.fetchall()"
     ],
     "language": "python"
    },
    {
     "cell_type": "code",
     "execution_count": null,
     "metadata": {},
     "outputs": [],
     "input": [
      "len(qry)"
     ],
     "language": "python"
    },
    {
     "cell_type": "code",
     "execution_count": null,
     "metadata": {},
     "outputs": [],
     "input": [
      "c.execute(\"Pragma table_info(source)\")\n",
      "varList = c.fetchall()\n",
      "varList"
     ],
     "language": "python"
    },
    {
     "cell_type": "code",
     "execution_count": null,
     "metadata": {},
     "outputs": [],
     "input": [
      "kkeyList = []\n",
      "kkeyList.append(varList[0])\n",
      "kkeyList.append(varList[36])\n",
      "kkeyList.append(varList[37])\n",
      "kkeyList.append(varList[47])\n",
      "kkeyList.append(varList[49])\n",
      "kkeyList.append(varList[50])\n",
      "kkeyList"
     ],
     "language": "python"
    },
    {
     "cell_type": "code",
     "execution_count": null,
     "metadata": {},
     "outputs": [],
     "input": [
      "kkeyUpdate(c,table,kkeyList)"
     ],
     "language": "python"
    },
    {
     "cell_type": "code",
     "execution_count": null,
     "metadata": {},
     "outputs": [],
     "input": [
      "c.execute(\"SELECT SUM(Count), kkey FROM source GROUP BY kkey\")\n",
      "qry2 = c.fetchall()\n",
      "#lessThanK = []\n",
      "#badCount = 0\n",
      "c.execute(\"UPDATE \"+table+\" SET kCheckFlag = 'False'\")\n",
      "for row in qry2:\n",
      "    if row[0] >= 5:\n",
      "        c.execute('UPDATE '+table+' SET kCheckFlag = \"True\" WHERE kkey = \"'+row[1]+'\"')"
     ],
     "language": "python"
    },
    {
     "cell_type": "code",
     "execution_count": null,
     "metadata": {},
     "outputs": [],
     "input": [
      "selUnique(c,table,\"kCheckFlag\")"
     ],
     "language": "python"
    },
    {
     "cell_type": "heading",
     "metadata": {},
     "level": 4,
     "source": [
      "The fateful step where non-k-anonymous records are removed."
     ]
    },
    {
     "cell_type": "code",
     "execution_count": null,
     "metadata": {},
     "outputs": [],
     "input": [
      "c.execute(\"DELETE FROM source WHERE kCheckFlag = 'False'\")"
     ],
     "language": "python"
    },
    {
     "cell_type": "heading",
     "metadata": {},
     "level": 4,
     "source": [
      "Be careful to only export the columns you are ok with others seeing. Don't export IP address, original user_id, etc."
     ]
    },
    {
     "cell_type": "code",
     "execution_count": null,
     "metadata": {},
     "outputs": [],
     "input": [
      "csvExport(c,table,\"HMXPC13_DI_binned_061714.csv\")"
     ],
     "language": "python"
    },
    {
     "cell_type": "heading",
     "metadata": {},
     "level": 1,
     "source": [
      "Stats on Original File"
     ]
    },
    {
     "cell_type": "code",
     "execution_count": null,
     "metadata": {},
     "outputs": [],
     "input": [
      "dbClose(c)\n",
      "db = 'kaPC_1-17-4-17-14-orig.db'\n",
      "c = dbOpen(db)"
     ],
     "language": "python"
    },
    {
     "cell_type": "code",
     "execution_count": null,
     "metadata": {},
     "outputs": [],
     "input": [
      "c.execute(\"Pragma table_info(source)\")\n",
      "c.fetchall()"
     ],
     "language": "python"
    },
    {
     "cell_type": "code",
     "execution_count": null,
     "metadata": {},
     "outputs": [],
     "input": [
      "c.execute(\"UPDATE source SET Count = 1\")"
     ],
     "language": "python"
    },
    {
     "cell_type": "code",
     "execution_count": null,
     "metadata": {},
     "outputs": [],
     "input": [
      "c.execute(\"SELECT SUM(Count) FROM source\")\n",
      "total = c.fetchall()[0][0]\n",
      "total"
     ],
     "language": "python"
    },
    {
     "cell_type": "code",
     "execution_count": null,
     "metadata": {},
     "outputs": [],
     "input": [
      "view_qry = selUnique(c,table,\"viewed\")\n",
      "view_dic = {}\n",
      "for row in view_qry:\n",
      "    view_dic[row[0]] = float(row[1])/float(total)\n",
      "view_dic"
     ],
     "language": "python"
    },
    {
     "cell_type": "code",
     "execution_count": null,
     "metadata": {},
     "outputs": [],
     "input": [
      "exp_qry = selUnique(c,table,\"explored\")\n",
      "exp_dic = {}\n",
      "for row in exp_qry:\n",
      "    exp_dic[row[0]] = float(row[1])/float(total)\n",
      "exp_dic"
     ],
     "language": "python"
    },
    {
     "cell_type": "code",
     "execution_count": null,
     "metadata": {},
     "outputs": [],
     "input": [
      "cert_qry = selUnique(c,table,\"certified\")\n",
      "cert_dic = {}\n",
      "for row in cert_qry:\n",
      "    cert_dic[row[0]] = float(row[1])/float(total)\n",
      "cert_dic"
     ],
     "language": "python"
    },
    {
     "cell_type": "code",
     "execution_count": null,
     "metadata": {},
     "outputs": [],
     "input": [
      "gen_qry = selUnique(c,table,\"gender\")\n",
      "gen_dic = {}\n",
      "gen_total = total\n",
      "for row in gen_qry:\n",
      "    if row[0] == '' or row[0] == 'NA' or row[0] == 'o':\n",
      "        gen_total -= row[1]\n",
      "    else:\n",
      "        gen_dic[row[0]] = float(row[1])/float(gen_total)\n",
      "gen_dic"
     ],
     "language": "python"
    },
    {
     "cell_type": "code",
     "execution_count": null,
     "metadata": {},
     "outputs": [],
     "input": [
      "age_qry = selUnique(c,table,\"YoB\")\n",
      "num = 0\n",
      "denom = 0\n",
      "for row in age_qry:\n",
      "    try: age = 2013 - int(row[0])\n",
      "    except: continue\n",
      "    num += age * row[1]\n",
      "    denom += row[1]\n",
      "avg_age = float(num)/float(denom)\n",
      "avg_age"
     ],
     "language": "python"
    },
    {
     "cell_type": "heading",
     "metadata": {},
     "level": 2,
     "source": [
      "Stats on De-identified file"
     ]
    },
    {
     "cell_type": "code",
     "execution_count": null,
     "metadata": {},
     "outputs": [],
     "input": [
      "dbClose(c)\n",
      "db = 'kaPC_1-17-4-17-14-3.db'\n",
      "c = dbOpen(db)"
     ],
     "language": "python"
    },
    {
     "cell_type": "code",
     "execution_count": null,
     "metadata": {},
     "outputs": [],
     "input": [
      "c.execute(\"SELECT SUM(Count) FROM source\")\n",
      "total = c.fetchall()[0][0]\n",
      "total"
     ],
     "language": "python"
    },
    {
     "cell_type": "code",
     "execution_count": null,
     "metadata": {},
     "outputs": [],
     "input": [
      "view_qry = selUnique(c,table,\"viewed\")\n",
      "view_dic = {}\n",
      "for row in view_qry:\n",
      "    view_dic[row[0]] = float(row[1])/float(total)\n",
      "view_dic"
     ],
     "language": "python"
    },
    {
     "cell_type": "code",
     "execution_count": null,
     "metadata": {},
     "outputs": [],
     "input": [
      "exp_qry = selUnique(c,table,\"explored\")\n",
      "exp_dic = {}\n",
      "for row in exp_qry:\n",
      "    exp_dic[row[0]] = float(row[1])/float(total)\n",
      "exp_dic"
     ],
     "language": "python"
    },
    {
     "cell_type": "code",
     "execution_count": null,
     "metadata": {},
     "outputs": [],
     "input": [
      "cert_qry = selUnique(c,table,\"certified\")\n",
      "cert_dic = {}\n",
      "for row in cert_qry:\n",
      "    cert_dic[row[0]] = float(row[1])/float(total)\n",
      "cert_dic"
     ],
     "language": "python"
    },
    {
     "cell_type": "code",
     "execution_count": null,
     "metadata": {},
     "outputs": [],
     "input": [
      "gen_qry = selUnique(c,table,\"gender\")\n",
      "gen_dic = {}\n",
      "gen_total = total\n",
      "for row in gen_qry:\n",
      "    if row[0] == '' or row[0] == 'NA' or row[0] == 'o':\n",
      "        gen_total -= row[1]\n",
      "    else:\n",
      "        gen_dic[row[0]] = float(row[1])/float(gen_total)\n",
      "gen_dic"
     ],
     "language": "python"
    },
    {
     "cell_type": "code",
     "execution_count": null,
     "metadata": {},
     "outputs": [],
     "input": [
      "age_qry = selUnique(c,table,\"YoB\")\n",
      "num = 0\n",
      "denom = 0\n",
      "for row in age_qry:\n",
      "    try: age = 2013 - int(row[0])\n",
      "    except: continue\n",
      "    num += age * row[1]\n",
      "    denom += row[1]\n",
      "avg_age = float(num)/float(denom)\n",
      "avg_age"
     ],
     "language": "python"
    },
    {
     "cell_type": "code",
     "execution_count": null,
     "metadata": {},
     "outputs": [],
     "input": [
      "c.execute(\"Pragma database_list\")\n",
      "c.fetchall()"
     ],
     "language": "python"
    },
    {
     "cell_type": "code",
     "execution_count": null,
     "metadata": {},
     "outputs": [],
     "input": [
      "selUnique(c,table,\"YoB\")"
     ],
     "language": "python"
    },
    {
     "cell_type": "code",
     "execution_count": null,
     "metadata": {},
     "outputs": [],
     "input": [
      "uMatrix - preUmatrix\n",
      "#This one taken after K-Anonymous"
     ],
     "language": "python"
    },
    {
     "cell_type": "heading",
     "metadata": {},
     "level": 4,
     "source": [
      "Good to close the db between uses, it compacts the data and prevents an error if you leave a cursor dangling."
     ]
    },
    {
     "cell_type": "code",
     "execution_count": null,
     "metadata": {},
     "outputs": [],
     "input": [
      "dbClose(db)"
     ],
     "language": "python"
    }
   ]
  }
 ],
 "cells": [],
 "metadata": {
  "name": ""
 },
 "nbformat": 3,
 "nbformat_minor": 0
}