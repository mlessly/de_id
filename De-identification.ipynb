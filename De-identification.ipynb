{
 "cells": [
  {
   "cell_type": "markdown",
   "metadata": {},
   "source": [
    "#### Import de-identification functions from datafly_v4.py"
   ]
  },
  {
   "cell_type": "code",
   "execution_count": null,
   "metadata": {
    "collapsed": false
   },
   "outputs": [],
   "source": [
    "from __future__ import unicode_literals\n",
    "\n",
    "from decimal import *\n",
    "\n",
    "import numpy as np\n",
    "import pandas as pd\n",
    "\n",
    "from de_id_functions import *"
   ]
  },
  {
   "cell_type": "markdown",
   "metadata": {},
   "source": [
    "#### Additional functions not included in the de_id_functions.py file."
   ]
  },
  {
   "cell_type": "code",
   "execution_count": null,
   "metadata": {
    "collapsed": false
   },
   "outputs": [],
   "source": [
    "def utilValues(cursor, table_name, column_name):\n",
    "    \"\"\"\n",
    "    cursor: sqlite cursor object\n",
    "    table_name: string, name of sqlite table\n",
    "    column_name: string, name of variable to analyze\n",
    "\n",
    "    takes values of an integer or float variable and returns the\n",
    "    mean, standard deviation, and entropy\n",
    "    \"\"\"\n",
    "    entQry = count_unique_values(cursor, table_name, column_name)\n",
    "    entropy = shannonEntropy(entQry)\n",
    "\n",
    "    cursor.execute(\"SELECT {column_name}  FROM {table_name}\".format(column_name=column_name, table_name=table_name))\n",
    "    values = cursor.fetchall()\n",
    "    values = colToList(values)\n",
    "    float_values = textToFloat(values)\n",
    "\n",
    "    if len(float_values) == 0:\n",
    "        print(\"No values could be converted to numbers\")\n",
    "        return\n",
    "\n",
    "    qryArray = np.array(float_values)\n",
    "    mean = qryArray.mean()\n",
    "    sd = qryArray.std()\n",
    "\n",
    "    return entropy, mean, sd\n",
    "\n",
    "\n",
    "def binAvg(cursor, table_name, nominal_column_name, numeric_column_name):\n",
    "    \"\"\"\n",
    "    cursor: sqlite cursor object\n",
    "    table_name: string, name of sqlite table\n",
    "    nominal_column_name: string, name of variable with nominal categories\n",
    "    numeric_column_name: string, name of corresponding variable with numeric values\n",
    "    For two columns, one a categorical string representation (generalization)\n",
    "    of the numeric values in another column (for example column A \n",
    "    contains \"10-15\" and then column B contains the actual values \n",
    "    that are in that bin), will give a bin-level average of the true values\n",
    "    in that bin. Designed as a tool to help improve the quality of a \n",
    "    binned (aka 'generalized') dataset. \n",
    "    \"\"\"\n",
    "    newVarName = nominal_column_name + \"_avg\"\n",
    "    getcontext().prec = 2\n",
    "    bins = count_unique_values(cursor, table_name, nominal_column_name)\n",
    "    avgDic = {}\n",
    "    for cat in bins:\n",
    "        cursor.execute(\n",
    "            \"SELECT {numeric_column_name} FROM {table_name} WHERE {nominal_column_name} = ?\".format(\n",
    "                numeric_column_name=numeric_column_name,\n",
    "                table_name=table_name,\n",
    "                nominal_column_name=nominal_column_name\n",
    "            ),\n",
    "            (cat[0],)\n",
    "        )\n",
    "        qry = cursor.fetchall()\n",
    "        qry = colToList(qry)\n",
    "        qry2 = textToFloat(qry)\n",
    "        if len(qry2) == 0:\n",
    "            print \"No values could be converted to numbers: \" + str(cat[0])\n",
    "            continue\n",
    "        qryArray = np.array(qry2)\n",
    "        mean = qryArray.mean()\n",
    "        mean = Decimal(mean)\n",
    "        mean = round(mean, 2)\n",
    "        avgDic[cat[0]] = str(mean)\n",
    "    try:\n",
    "        add_column(cursor, table_name, newVarName)\n",
    "        index_column(cursor, table_name, newVarName)\n",
    "    except:\n",
    "        print \"column \" + newVarName + \" already exists, overwriting...\"\n",
    "        cursor.execute(\"UPDATE \" + table_name + \" SET \" + newVarName + \" = 'null'\")\n",
    "    dataUpdate(cursor, table_name, nominal_column_name, avgDic, True, newVarName)\n",
    "\n",
    "\n",
    "def utilMatrix(cursor, tableName, variable_names):\n",
    "    \"\"\"\n",
    "    cursor: sqlite cursor object\n",
    "    tableName: string, name of sqlite table\n",
    "    varList: list of utility variables, in format indigenous\n",
    "    to this program, which is the format that results\n",
    "    from the sqlite \"Pragma table_info()\" command.\n",
    "\n",
    "    This function creates a Pandas dataframe/matrix of the entropy,\n",
    "    mean, and standard deviation of the utility variables, \n",
    "    index is the variable name, and columns are the statistics\n",
    "    \"\"\"\n",
    "    uMatrix = pd.DataFrame(columns=[\"Entropy\", \"Mean\", \"SD\"], index=variable_names)\n",
    "    for var in variable_names:\n",
    "        ent, mean, sd = utilValues(cursor, tableName, var)\n",
    "        uMatrix.ix[var] = [ent, mean, sd]\n",
    "    return uMatrix\n",
    "\n",
    "\n",
    "def textToFloat(txtList):\n",
    "    \"\"\"\n",
    "    txtList: list of text values\n",
    "    returns a list of float values, \n",
    "    skips values that cannot be converted\n",
    "    \"\"\"\n",
    "    numList = []\n",
    "    for i in txtList:\n",
    "        try:\n",
    "            if i == 'true':\n",
    "                numList.append(1)\n",
    "            elif i == 'false':\n",
    "                numList.append(0)\n",
    "            else:\n",
    "                numList.append(float(i))\n",
    "        except:\n",
    "            pass\n",
    "    return numList\n",
    "\n",
    "\n",
    "def lDiversity(cursor, tableName, kkeyVar, senVar):\n",
    "    \"\"\"\n",
    "    cursor: sqlite3 cursor object                                                                                                                                                                \n",
    "    tableName: string, name of main table\n",
    "    kkeyVar: string, name of variable that contains concatenation of all quasi-identifiers\n",
    "    senVar: string, name of variable whose value you do not want disclosed\n",
    "    Checks a dataset for \"l-diversity\", namely that in a k-anonymous block of records\n",
    "    if the sensitive value is homogeonous, then you have effectively disclosed the \n",
    "    value of the sensitive record. Bluntly sets sensitive variable to blank if not l-diverse\n",
    "    \"\"\"\n",
    "    qry = count_unique_values(cursor, tableName, kkeyVar)\n",
    "    for i in qry:\n",
    "        cursor.execute(\n",
    "            'SELECT ' + senVar + ' FROM ' + tableName + ' WHERE ' + kkeyVar + ' = \"' + i[0] + '\" GROUP BY ' + senVar)\n",
    "        qry2 = cursor.fetchall()\n",
    "        if len(qry2) == 1:\n",
    "            cursor.execute('UPDATE ' + tableName + ' SET ' + senVar + ' = \" \" WHERE ' + kkeyVar + ' = \"' + i[0] + '\"')\n",
    "\n",
    "\n",
    "def optimumDrop2(cursor, tableName, userVar, k, nonUniqueList, nComb=1):\n",
    "    \"\"\"                                                                                                                                                                                          \n",
    "    cursor: sqlite3 cursor object                                                                                                                                                                \n",
    "    tableName: string, name of main table                                                                                                                                                        \n",
    "    userVar: string, name of userid var                                                                                                                                                          \n",
    "    k: int, minimum cell size                                                                                                                                                                    \n",
    "    nonUniqueList: list of course_combo values already cleared for k-anonymity                                                                                                                   \n",
    "    nComb: int, number of courses to try to drop, default 1                                                                                                                                      \n",
    "    iteratively tries 'dropping' one course for all of the records                                                                                                                               \n",
    "    that are flagged as having a unique combo of courses                                                                                                                                         \n",
    "    then measures the entropy of the resulting group, and                                                                                                                                        \n",
    "    returns the position in courseList of the course to drop, along with the                                                                                                                     \n",
    "    course_combo values that will benefit from the drop                                                                                                                                          \n",
    "    \"\"\"\n",
    "    qry = courseUserQry(cursor, tableName, userVar, 'True')\n",
    "    if len(qry) == 0:\n",
    "        return qry\n",
    "    posLen = len(qry[0][\n",
    "        0])  # assumes first variable in each tuple is the course combo, finds num of positions to change\n",
    "    preList = qry[:]\n",
    "    preCombos = []\n",
    "    for i in preList:\n",
    "        preCombos.append(i[0])\n",
    "    preEntropy = shannonEntropy(preList)\n",
    "    postEntList = []\n",
    "    preCount = 0\n",
    "    for n in qry:\n",
    "        preCount += n[1]\n",
    "    print preCount\n",
    "    iterTemp = itertools.combinations(range(posLen), nComb)\n",
    "    dropCombos = []\n",
    "    while True:\n",
    "        try:\n",
    "            dropCombos.append(iterTemp.next())\n",
    "        except:\n",
    "            break\n",
    "    for i in dropCombos:\n",
    "        # print \"dropCombo:\"\n",
    "        # print i\n",
    "        postList = []\n",
    "        tmpList = qry[:]\n",
    "        for j in tmpList:\n",
    "            newString = \"\"\n",
    "            for l in range(posLen):\n",
    "                if l in i:\n",
    "                    newString += \"0\"\n",
    "                else:\n",
    "                    newString += j[0][l]\n",
    "            postList.append((newString, j[1]))\n",
    "        try:\n",
    "            cursor.execute(\"DROP TABLE coursedrop\")\n",
    "            cursor.execute(\"CREATE TABLE coursedrop (course_combo text, Count integer)\")\n",
    "        except:\n",
    "            cursor.execute(\"CREATE TABLE coursedrop (course_combo text, Count integer)\")\n",
    "        cursor.executemany(\"INSERT INTO coursedrop VALUES (?,?)\", postList)\n",
    "        cursor.execute(\"SELECT course_combo, COUNT(*) FROM coursedrop GROUP BY course_combo\")\n",
    "        postQry = cursor.fetchall()\n",
    "        postEntropy = shannonEntropy(postQry)\n",
    "        postCount = 0\n",
    "        for item in postQry:\n",
    "            postCount += item[1]\n",
    "        changeVals = []\n",
    "        for k in range(len(i)):\n",
    "            oldSpots = []\n",
    "            iterTemp = itertools.combinations(i, k + 1)\n",
    "            while True:\n",
    "                try:\n",
    "                    oldSpots.append(iterTemp.next())\n",
    "                except:\n",
    "                    break\n",
    "            for l in oldSpots:\n",
    "                for m in postQry:\n",
    "                    mList = list(m[0])\n",
    "                    for n in l:\n",
    "                        mList[n] = '1'\n",
    "                    oldString = ''\n",
    "                    for p in mList:\n",
    "                        oldString += p\n",
    "                    if m[1] >= k and oldString in preCombos:\n",
    "                        changeVals.append(oldString)\n",
    "                    elif (m[0] in nonUniqueList) and oldString in preCombos:\n",
    "                        changeVals.append(oldString)\n",
    "        # print \"Length of ChangeVals: \"+str(len(changeVals))\n",
    "        if len(changeVals) > 0:\n",
    "            postEntList.append((i, preEntropy - postEntropy, changeVals))\n",
    "    if len(postEntList) == 0:\n",
    "        return []\n",
    "    first = True\n",
    "    low = (99, 99, [])\n",
    "    for n in postEntList:\n",
    "        if n[1] < low[1] and n[1] > 0.0:\n",
    "            low = n\n",
    "    return low\n",
    "\n",
    "\n",
    "def userKanon2(cursor, tableName, userVar, courseVar, k):\n",
    "    \"\"\"                                                                                                                                                                                          \n",
    "    cursor: sqlite cursor object                                                                                                                                                                 \n",
    "    tableName: string, name of table                                                                                                                                                             \n",
    "    userVar: string, name of userid variable                                                                                                                                                     \n",
    "    courseVar: string, name of course variable                                                                                                                                                   \n",
    "    k: minimum group size                                                                                                                                                                        \n",
    "    creates a unique row record that is combo of                                                                                                                                                 \n",
    "    courseid and userid, and then creates another variable                                                                                                                                       \n",
    "    that says which courses someone has taken                                                                                                                                                    \n",
    "    then checks for unique count of courses taken                                                                                                                                                \n",
    "    and unique combinations of courses                                                                                                                                                           \n",
    "    \"\"\"\n",
    "    courseList = courseComboUpdate(cursor, tableName, userVar, courseVar)\n",
    "    value, uniqueList, nonUniqueList = uniqUserCheck(cursor, tableName, userVar, k)\n",
    "    uniqUserFlag(cursor, tableName, uniqueList)\n",
    "    dropNum = 1\n",
    "    courseDrops = {}\n",
    "    while value != 0.0 and dropNum != 16:\n",
    "        print \"DropNum: \" + str(dropNum)\n",
    "        print \"non-anon value: \" + str(value)\n",
    "        courseTup = optimumDrop2(cursor, tableName, userVar, k, nonUniqueList, dropNum)\n",
    "        # print \"courseTup returned from OptimumDrop:\"\n",
    "        if len(courseTup) == 0 or len(courseTup[2]) == 0:\n",
    "            dropNum += 1\n",
    "            print \"no more changes can be made, trying \" + str(dropNum) + \" courses at a time\"\n",
    "            return courseDrops\n",
    "        # print courseTup[:2]\n",
    "        courseNums = courseTup[0]\n",
    "        # print \"courseNums:\"\n",
    "        # print courseNums\n",
    "        changeVals = courseTup[2]\n",
    "        print \"length of changeVals\"\n",
    "        print len(changeVals)\n",
    "        for i in courseNums:\n",
    "            courseName = courseList[i]\n",
    "            print \"dropping courseName:\"\n",
    "            print courseName\n",
    "            courseDrops = courseDropper2(cursor, tableName, courseVar, courseName, changeVals, courseDrops)\n",
    "        courseList = courseComboUpdate(cursor, tableName, userVar, courseVar)\n",
    "        value, uniqueList, nonUniqueList = uniqUserCheck(cursor, tableName, userVar, k)\n",
    "        uniqUserFlag(cursor, tableName, uniqueList)\n",
    "    return courseDrops\n",
    "\n",
    "\n",
    "def courseDropper2(cursor, tableName, courseVar, courseName, changeVals, courseDict={}):\n",
    "    \"\"\"                                                                                                                                                                                          \n",
    "    courseName: string, name of course to be dropped                                                                                                                                             \n",
    "    changeVals: list of strings, values of course_combo to drop                                                                                                                                  \n",
    "    courseDict: dictionary of courses and running tally of rows dropped                                                                                                                          \n",
    "    drops course record where course equals courseName                                                                                                                                           \n",
    "    AND uniqUserFlag = \"True\"                                                                                                                                                                    \n",
    "    \"\"\"\n",
    "    delCount = 0\n",
    "    # print \"len of changeVals: \"+str(len(changeVals))\n",
    "    for val in changeVals:\n",
    "        cursor.execute(\n",
    "            \"SELECT COUNT(*) FROM \" + tableName + \" WHERE (\" + courseVar + \" = '\" + courseName + \"' AND uniqUserFlag = 'True' AND course_combo = '\" + val + \"')\")\n",
    "        qry = cursor.fetchall()\n",
    "        # print \"changeVal qry length:\"+str(len(qry))\n",
    "        if (qry[0][0]): delCount += qry[0][0]\n",
    "    print \"delCount: \" + str(delCount)\n",
    "    if delCount == 0:\n",
    "        return courseDict\n",
    "    if courseName in courseDict.keys():\n",
    "        courseDict[courseName] += delCount\n",
    "    else:\n",
    "        courseDict[courseName] = delCount\n",
    "    # confirm = raw_input(\"Confirm you want to delete \"+str(delCount)+\" records associated with \"+courseName+\" (y/n): \")\n",
    "    # if confirm == 'n':\n",
    "    #    return\n",
    "    # elif confirm == 'y':\n",
    "    for val in changeVals:\n",
    "        cursor.execute(\n",
    "            \"DELETE FROM \" + tableName + \" WHERE (\" + courseVar + \" = '\" + courseName + \"' AND uniqUserFlag = 'True' AND course_combo = '\" + val + \"')\")\n",
    "    # else:\n",
    "    #    print \"invalid choice, exiting function\"\n",
    "    return courseDict\n",
    "\n",
    "\n",
    "def kAnonIter(cursor, tableName, k, outFile):\n",
    "    \"\"\"                                                                                                                                                                                          \n",
    "    cursor: sqlite cursor object                                                                                                                                                                 \n",
    "    tableName: string, name of table                                                                                                                                                             \n",
    "    k: minimum group size                                                                                                                                                                        \n",
    "    wrapper function, gets list of variables from user input,                                                                                                                                    \n",
    "    updates kkey, checks for k-anonymity                                                                                                                                                         \n",
    "    \"\"\"\n",
    "    coreVarList = qiPicker(cursor, tableName)\n",
    "    optVarList = qiPicker(cursor, tableName)\n",
    "    iterVarList = coreVarList\n",
    "    addList = []\n",
    "    kkeyUpdate(cursor, tableName, iterVarList)\n",
    "    varIndex = 0\n",
    "    a, b = isTableKanonymous(cursor, tableName, k)\n",
    "    results = [('core', b)]\n",
    "    for var in optVarList:\n",
    "        iterVarList.append(optVarList[varIndex])\n",
    "        print iterVarList\n",
    "        addList.append(optVarList[varIndex])\n",
    "        print addList\n",
    "        results.append((addList,))\n",
    "        kkeyUpdate(cursor, tableName, iterVarList)\n",
    "        a, b = isTableKanonymous(cursor, tableName, k)\n",
    "        varIndex += 1\n",
    "        results[varIndex] += (b,)\n",
    "    outFile.write(str(results))\n",
    "    return results"
   ]
  },
  {
   "cell_type": "markdown",
   "metadata": {},
   "source": [
    "#### Name the file containing the data, name the database, and name commonly-used database variables. NOTE: make updates here if file specification changes"
   ]
  },
  {
   "cell_type": "code",
   "execution_count": null,
   "metadata": {
    "collapsed": false
   },
   "outputs": [],
   "source": [
    "file = 'private_data/input.csv'\n",
    "table = 'source'\n",
    "pristine_table_name = \"original\"\n",
    "user_id_column_name = 'user_id'\n",
    "course_id_column_name = 'course_id'\n",
    "country_code_column_name = 'cc_by_ip'\n",
    "k = 5\n",
    "\n",
    "exported_file_path = \"private_data/HMXPC13_DI_binned_061714.csv\""
   ]
  },
  {
   "cell_type": "code",
   "execution_count": null,
   "metadata": {
    "collapsed": false
   },
   "outputs": [],
   "source": [
    "# choose a name for the database and then connect to it\n",
    "db_name = 'private_data/kaPC_1-17-4-17-14-3.db'\n",
    "cursor = dbOpen(db_name)"
   ]
  },
  {
   "cell_type": "markdown",
   "metadata": {},
   "source": [
    "#### Load data into SQLite database"
   ]
  },
  {
   "cell_type": "code",
   "execution_count": null,
   "metadata": {
    "collapsed": false
   },
   "outputs": [],
   "source": [
    "sourceLoad(cursor, file, table)"
   ]
  },
  {
   "cell_type": "markdown",
   "metadata": {},
   "source": [
    "#### Load data into another table to make comparisons to the original data"
   ]
  },
  {
   "cell_type": "code",
   "execution_count": null,
   "metadata": {
    "collapsed": false
   },
   "outputs": [],
   "source": [
    "sourceLoad(cursor, file, pristine_table_name)"
   ]
  },
  {
   "cell_type": "markdown",
   "metadata": {},
   "source": [
    "#### Drop the timestamp from the date fields."
   ]
  },
  {
   "cell_type": "code",
   "execution_count": null,
   "metadata": {
    "collapsed": false
   },
   "outputs": [],
   "source": [
    "# TODO Re-activate when we are ingesting data as dates instead of numerical timestamps\n",
    "# dateSplit(cursor, table, \"start_time\")\n",
    "# dateSplit(cursor, table, \"last_event\")"
   ]
  },
  {
   "cell_type": "code",
   "execution_count": null,
   "metadata": {
    "collapsed": false
   },
   "outputs": [],
   "source": [
    "cursor.execute(\"SELECT name FROM sqlite_master WHERE type='table';\")\n",
    "cursor.fetchall()"
   ]
  },
  {
   "cell_type": "markdown",
   "metadata": {},
   "source": [
    "#### Load column names into a variable called varList"
   ]
  },
  {
   "cell_type": "code",
   "execution_count": null,
   "metadata": {
    "collapsed": false
   },
   "outputs": [],
   "source": [
    "cursor.execute(\"Pragma table_info(\" + table + \")\")\n",
    "varList = cursor.fetchall()\n",
    "varList"
   ]
  },
  {
   "cell_type": "markdown",
   "metadata": {},
   "source": [
    "#### Add indices"
   ]
  },
  {
   "cell_type": "code",
   "execution_count": null,
   "metadata": {
    "collapsed": false
   },
   "outputs": [],
   "source": [
    "index_column(cursor, table, course_id_column_name)\n",
    "index_column(cursor, table, user_id_column_name)"
   ]
  },
  {
   "cell_type": "code",
   "execution_count": null,
   "metadata": {
    "collapsed": false
   },
   "outputs": [],
   "source": [
    "cursor.execute(\"CREATE INDEX \" + course_id_column_name + \"_idx2 ON original (\" + course_id_column_name + \")\")\n",
    "cursor.execute(\"CREATE INDEX \" + user_id_column_name + \"_idx2 ON original (\" + user_id_column_name + \")\")"
   ]
  },
  {
   "cell_type": "markdown",
   "metadata": {},
   "source": [
    "#### Get initial count of records loaded"
   ]
  },
  {
   "cell_type": "code",
   "execution_count": null,
   "metadata": {
    "collapsed": false
   },
   "outputs": [],
   "source": [
    "cursor.execute(\"SELECT COUNT(*) FROM {}\".format(table))\n",
    "cursor.fetchall()"
   ]
  },
  {
   "cell_type": "markdown",
   "metadata": {},
   "source": [
    "#### Map country codes to country names, load table of country name to continent mappings"
   ]
  },
  {
   "cell_type": "code",
   "execution_count": null,
   "metadata": {
    "collapsed": false
   },
   "outputs": [],
   "source": [
    "# TODO Reactivate if we determine this to be useful\n",
    "# countryNamer(cursor, table, country_code_column_name)\n",
    "# contImport(cursor, table, \"country_continent\", country_code_column_name + \"_cname\")"
   ]
  },
  {
   "cell_type": "markdown",
   "metadata": {},
   "source": [
    "#### Delete staff"
   ]
  },
  {
   "cell_type": "code",
   "execution_count": null,
   "metadata": {
    "collapsed": false
   },
   "outputs": [],
   "source": [
    "for table_name in (table, pristine_table_name,):\n",
    "    cursor.execute(\"DELETE FROM {table_name} WHERE roles IN  ('instructor', 'staff')\".format(table_name=table_name))"
   ]
  },
  {
   "cell_type": "markdown",
   "metadata": {},
   "source": [
    "#### Generate anonymous userIDs, choose prefix that will describe the data release, here 'MHxPC13' refers to MITx/HarvardX Person-Course AY2013"
   ]
  },
  {
   "cell_type": "code",
   "execution_count": null,
   "metadata": {
    "collapsed": false
   },
   "outputs": [],
   "source": [
    "idGen(cursor, table, user_id_column_name, \"MHxPC13\")"
   ]
  },
  {
   "cell_type": "markdown",
   "metadata": {},
   "source": [
    "#### Get initial entropy reading"
   ]
  },
  {
   "cell_type": "code",
   "execution_count": null,
   "metadata": {
    "collapsed": false
   },
   "outputs": [],
   "source": [
    "add_column(cursor, table, 'entropy')\n",
    "index_column(cursor, table, 'entropy')\n",
    "kkeyUpdate(cursor, table, varList, 'entropy')"
   ]
  },
  {
   "cell_type": "code",
   "execution_count": null,
   "metadata": {
    "collapsed": false
   },
   "outputs": [],
   "source": [
    "result = count_unique_values(cursor, table, 'entropy')"
   ]
  },
  {
   "cell_type": "code",
   "execution_count": null,
   "metadata": {
    "collapsed": false
   },
   "outputs": [],
   "source": [
    "beginEntropy = shannonEntropy(result)\n",
    "beginEntropy"
   ]
  },
  {
   "cell_type": "markdown",
   "metadata": {},
   "source": [
    "#### Create utility Matrix (both for unmodified dataset and current dataset)"
   ]
  },
  {
   "cell_type": "code",
   "execution_count": null,
   "metadata": {
    "collapsed": false
   },
   "outputs": [],
   "source": [
    "utilVars = (\n",
    "    'viewed', 'explored', 'certified', 'grade', 'nevents', 'ndays_act', 'nplay_video', 'nchapters', 'nforum_posts',)"
   ]
  },
  {
   "cell_type": "code",
   "execution_count": null,
   "metadata": {
    "collapsed": false
   },
   "outputs": [],
   "source": [
    "preUmatrix = utilMatrix(cursor, pristine_table_name, utilVars)"
   ]
  },
  {
   "cell_type": "code",
   "execution_count": null,
   "metadata": {
    "collapsed": false
   },
   "outputs": [],
   "source": [
    "preUmatrix"
   ]
  },
  {
   "cell_type": "code",
   "execution_count": null,
   "metadata": {
    "collapsed": false
   },
   "outputs": [],
   "source": [
    "uMatrix = utilMatrix(cursor, table, utilVars)"
   ]
  },
  {
   "cell_type": "code",
   "execution_count": null,
   "metadata": {
    "collapsed": false
   },
   "outputs": [],
   "source": [
    "uMatrix"
   ]
  },
  {
   "cell_type": "code",
   "execution_count": null,
   "metadata": {
    "collapsed": false
   },
   "outputs": [],
   "source": [
    "uMatrix - preUmatrix\n",
    "# removed rows for user k-anonymity"
   ]
  },
  {
   "cell_type": "markdown",
   "metadata": {},
   "source": [
    "#### Establish user-wise k-anonymity (the removal of registrations that uniquely identify someone based on combination of courses registered for)"
   ]
  },
  {
   "cell_type": "code",
   "execution_count": null,
   "metadata": {
    "collapsed": false
   },
   "outputs": [],
   "source": [
    "courseDrops = userKanon2(cursor, table, user_id_column_name, course_id_column_name, k)"
   ]
  },
  {
   "cell_type": "code",
   "execution_count": null,
   "metadata": {
    "collapsed": false
   },
   "outputs": [],
   "source": [
    "for course in courseDrops.keys():\n",
    "    print \"Dropped \" + str(courseDrops[course]) + \" rows for course \" + course"
   ]
  },
  {
   "cell_type": "code",
   "execution_count": null,
   "metadata": {
    "collapsed": false
   },
   "outputs": [],
   "source": [
    "cursor.execute(\"SELECT COUNT(*) FROM {table_name} WHERE uniqUserFlag = 'True'\".format(table_name=table))\n",
    "result = cursor.fetchall()\n",
    "print \"Deleted \" + str(result[0][0]) + \" additional records for users with unique combinations of courses.\\n\"\n",
    "cursor.execute(\"DELETE FROM {table_name} WHERE uniqUserFlag = 'True'\".format(table_name=table))"
   ]
  },
  {
   "cell_type": "code",
   "execution_count": null,
   "metadata": {
    "collapsed": false
   },
   "outputs": [],
   "source": [
    "kkeyUpdate(cursor, table, varList[:26], 'entropy')"
   ]
  },
  {
   "cell_type": "code",
   "execution_count": null,
   "metadata": {
    "collapsed": false
   },
   "outputs": [],
   "source": [
    "result = count_unique_values(cursor, table, 'entropy')\n",
    "tmpEntropy = shannonEntropy(result)"
   ]
  },
  {
   "cell_type": "code",
   "execution_count": null,
   "metadata": {
    "collapsed": false
   },
   "outputs": [],
   "source": [
    "tmpEntropy"
   ]
  },
  {
   "cell_type": "code",
   "execution_count": null,
   "metadata": {
    "collapsed": false
   },
   "outputs": [],
   "source": [
    "entChg = 2 ** beginEntropy - 2 ** tmpEntropy"
   ]
  },
  {
   "cell_type": "code",
   "execution_count": null,
   "metadata": {
    "collapsed": false
   },
   "outputs": [],
   "source": [
    "entChg\n",
    "# This one after User-K-Anonymity"
   ]
  },
  {
   "cell_type": "markdown",
   "metadata": {},
   "source": [
    "#### Replace country names with continent names"
   ]
  },
  {
   "cell_type": "code",
   "execution_count": null,
   "metadata": {
    "collapsed": false
   },
   "outputs": [],
   "source": [
    "country_threshold = 5000\n",
    "contSwap(cursor, table, \"cc_by_ip\", \"continent\", country_threshold)"
   ]
  },
  {
   "cell_type": "markdown",
   "metadata": {},
   "source": [
    "#### Make gender variable that treats NA and missing as same"
   ]
  },
  {
   "cell_type": "code",
   "execution_count": null,
   "metadata": {
    "collapsed": false
   },
   "outputs": [],
   "source": [
    "try:\n",
    "    # TODO Clean this field on ingestion\n",
    "    add_column(cursor, table, \"gender_DI\")\n",
    "    index_column(cursor, table, \"gender_DI\")\n",
    "    simpleUpdate(cursor, table, \"gender_DI\", \"NULL\")\n",
    "    cursor.execute(\"UPDATE \" + table + \" SET gender_DI = gender\")\n",
    "    cursor.execute(\"UPDATE \" + table + \" SET gender_DI = '' WHERE gender_DI = 'NA'\")\n",
    "except:\n",
    "    cursor.execute(\"UPDATE \" + table + \" SET gender_DI = gender\")\n",
    "    cursor.execute(\"UPDATE \" + table + \" SET gender_DI = '' WHERE gender_DI = 'NA'\")"
   ]
  },
  {
   "cell_type": "markdown",
   "metadata": {},
   "source": [
    "#### Get k-anonymity reading"
   ]
  },
  {
   "cell_type": "code",
   "execution_count": null,
   "metadata": {
    "collapsed": false
   },
   "outputs": [],
   "source": [
    "# TODO Create this earlier\n",
    "add_column(cursor, table, 'kkey')\n",
    "status, value = kAnonWrap(cursor, table, k)\n",
    "print \"Percent of records that will need to be deleted to be k-anonymous: \" + str(value) + \"\\n\"\n",
    "# outFile.write( \"Percent of records that will need to be deleted to be k-anonymous: \"+str(value)+\"\\n\")"
   ]
  },
  {
   "cell_type": "markdown",
   "metadata": {},
   "source": [
    "#### Check k-anonymity for records with some null values"
   ]
  },
  {
   "cell_type": "code",
   "execution_count": null,
   "metadata": {
    "collapsed": false
   },
   "outputs": [],
   "source": [
    "print \"checking k-anonymity for records with some null values\"\n",
    "print datetime.datetime.now().time()\n",
    "iterKcheck(cursor, table, k)"
   ]
  },
  {
   "cell_type": "code",
   "execution_count": null,
   "metadata": {
    "collapsed": false
   },
   "outputs": [],
   "source": [
    "def eduClean(cursor, tableName, loeVar):\n",
    "    try:\n",
    "        add_column(cursor, tableName, loeVar + \"_DI\")\n",
    "        index_column(cursor, tableName, loeVar + \"_DI\")\n",
    "    except:\n",
    "        simpleUpdate(cursor, tableName, loeVar + \"_DI\", \"NULL\")\n",
    "    ed_dict = {'': '', 'NA': 'NA', 'a': 'Secondary', 'b': \"Bachelor's\", 'el': 'Less than Secondary',\n",
    "        'hs': 'Secondary', 'jhs': 'Less than Secondary', 'learn': '', 'm': \"Master's\", 'none': '',\n",
    "        'other': '', 'p': 'Doctorate', 'p_oth': 'Doctorate', 'p_se': 'Doctorate'}\n",
    "    qry = count_unique_values(cursor, tableName, loeVar)\n",
    "    for row in qry:\n",
    "        if row[0] in ed_dict.keys():\n",
    "            cursor.execute(\n",
    "                'UPDATE ' + tableName + ' SET ' + loeVar + '_DI = \"' + ed_dict[row[0]] + '\" WHERE ' + loeVar + ' = \"' +\n",
    "                row[0] + '\"')"
   ]
  },
  {
   "cell_type": "code",
   "execution_count": null,
   "metadata": {
    "collapsed": false
   },
   "outputs": [],
   "source": [
    "eduClean(cursor, table, \"LoE\")"
   ]
  },
  {
   "cell_type": "code",
   "execution_count": null,
   "metadata": {
    "collapsed": false
   },
   "outputs": [],
   "source": [
    "count_unique_values(cursor, table, \"LoE\")"
   ]
  },
  {
   "cell_type": "code",
   "execution_count": null,
   "metadata": {
    "collapsed": false
   },
   "outputs": [],
   "source": [
    "count_unique_values(cursor, table, \"LoE_DI\")"
   ]
  },
  {
   "cell_type": "code",
   "execution_count": null,
   "metadata": {
    "collapsed": false
   },
   "outputs": [],
   "source": [
    "# TODO Set ignorable values to NULL. Update other code to exclude NULL/None values.\n",
    "# change 0 values to text in order to exclude them from the binning procedure\n",
    "cursor.execute(\"UPDATE {} SET nforum_posts = 'zero' WHERE nforum_posts = '0'\".format(table))"
   ]
  },
  {
   "cell_type": "markdown",
   "metadata": {},
   "source": [
    "#### The Tailfinder function can help to group a long tail of one variable into a text field (see more documentation in the de_id_functions.py file)"
   ]
  },
  {
   "cell_type": "code",
   "execution_count": null,
   "metadata": {
    "collapsed": false
   },
   "outputs": [],
   "source": [
    "tailFinder(cursor, table, \"nforum_posts\", 5)"
   ]
  },
  {
   "cell_type": "code",
   "execution_count": null,
   "metadata": {
    "collapsed": false
   },
   "outputs": [],
   "source": [
    "# TODO Where is the column supposed to be created?\n",
    "numBinner(cursor, table, \"nforum_posts_DI\")"
   ]
  },
  {
   "cell_type": "code",
   "execution_count": null,
   "metadata": {
    "collapsed": false
   },
   "outputs": [],
   "source": [
    "binAvg(cursor, table, \"nforum_posts_DI\", \"nforum_posts\")"
   ]
  },
  {
   "cell_type": "code",
   "execution_count": null,
   "metadata": {
    "collapsed": false
   },
   "outputs": [],
   "source": [
    "count_unique_values(cursor, table, \"nforum_posts_DI_avg\")"
   ]
  },
  {
   "cell_type": "code",
   "execution_count": null,
   "metadata": {
    "collapsed": false
   },
   "outputs": [],
   "source": [
    "tailFinder(cursor, table, \"YoB\", 50)"
   ]
  },
  {
   "cell_type": "code",
   "execution_count": null,
   "metadata": {
    "collapsed": false
   },
   "outputs": [],
   "source": [
    "numBinner(cursor, table, \"YoB_DI\", bw=2)"
   ]
  },
  {
   "cell_type": "code",
   "execution_count": null,
   "metadata": {
    "collapsed": false
   },
   "outputs": [],
   "source": [
    "count_unique_values(cursor, table, \"YoB_DI\")"
   ]
  },
  {
   "cell_type": "code",
   "execution_count": null,
   "metadata": {
    "collapsed": false
   },
   "outputs": [],
   "source": [
    "kAnonWrap(cursor, table, k)"
   ]
  },
  {
   "cell_type": "code",
   "execution_count": null,
   "metadata": {
    "collapsed": false
   },
   "outputs": [],
   "source": [
    "lDiversity(cursor, table, \"kkey\", \"grade\")"
   ]
  },
  {
   "cell_type": "markdown",
   "metadata": {},
   "source": [
    "#### Needed an incomplete flag for internally inconsistent records. This is described more in the documentation with the data release."
   ]
  },
  {
   "cell_type": "code",
   "execution_count": null,
   "metadata": {
    "collapsed": false
   },
   "outputs": [],
   "source": [
    "add_column(cursor, table, \"incomplete_flag\")"
   ]
  },
  {
   "cell_type": "code",
   "execution_count": null,
   "metadata": {
    "collapsed": false
   },
   "outputs": [],
   "source": [
    "index_column(cursor, table, \"incomplete_flag\")"
   ]
  },
  {
   "cell_type": "code",
   "execution_count": null,
   "metadata": {
    "collapsed": false
   },
   "outputs": [],
   "source": [
    "cursor.execute(\"SELECT COUNT(*) FROM {} WHERE nevents = '' AND nchapters != ''\".format(table))\n",
    "result = cursor.fetchall()\n",
    "print result\n",
    "cursor.execute(\"SELECT COUNT(*) FROM {} WHERE nevents = '' AND nforum_posts != '0'\".format(table))\n",
    "result = cursor.fetchall()\n",
    "print result\n",
    "cursor.execute(\"SELECT COUNT(*) FROM {} WHERE nevents = '' AND ndays_act != ''\".format(table))\n",
    "result = cursor.fetchall()\n",
    "print result"
   ]
  },
  {
   "cell_type": "code",
   "execution_count": null,
   "metadata": {
    "collapsed": false
   },
   "outputs": [],
   "source": [
    "cursor.execute(\"UPDATE {} SET incomplete_flag = '1' WHERE nevents = '' AND nchapters != ''\".format(table))"
   ]
  },
  {
   "cell_type": "code",
   "execution_count": null,
   "metadata": {
    "collapsed": false
   },
   "outputs": [],
   "source": [
    "cursor.execute(\"UPDATE {} SET incomplete_flag = '1' WHERE nevents = '' AND nforum_posts != '0'\".format(table))"
   ]
  },
  {
   "cell_type": "code",
   "execution_count": null,
   "metadata": {
    "collapsed": false
   },
   "outputs": [],
   "source": [
    "cursor.execute(\"UPDATE {} SET incomplete_flag = '1' WHERE nevents = '' AND ndays_act != ''\".format(table))"
   ]
  },
  {
   "cell_type": "code",
   "execution_count": null,
   "metadata": {
    "collapsed": false
   },
   "outputs": [],
   "source": [
    "cursor.execute(\"SELECT * FROM {} WHERE incomplete_flag = '1'\".format(table))"
   ]
  },
  {
   "cell_type": "code",
   "execution_count": null,
   "metadata": {
    "collapsed": false
   },
   "outputs": [],
   "source": [
    "result = cursor.fetchall()"
   ]
  },
  {
   "cell_type": "code",
   "execution_count": null,
   "metadata": {
    "collapsed": false
   },
   "outputs": [],
   "source": [
    "len(result)"
   ]
  },
  {
   "cell_type": "code",
   "execution_count": null,
   "metadata": {
    "collapsed": false
   },
   "outputs": [],
   "source": [
    "cursor.execute(\"Pragma table_info({})\".format(table))\n",
    "varList = cursor.fetchall()\n",
    "varList"
   ]
  },
  {
   "cell_type": "code",
   "execution_count": null,
   "metadata": {
    "collapsed": false
   },
   "outputs": [],
   "source": [
    "kkeyList = []\n",
    "kkeyList.append(varList[0])\n",
    "kkeyList.append(varList[36])\n",
    "kkeyList.append(varList[37])\n",
    "kkeyList.append(varList[47])\n",
    "kkeyList.append(varList[49])\n",
    "kkeyList.append(varList[50])\n",
    "kkeyList"
   ]
  },
  {
   "cell_type": "code",
   "execution_count": null,
   "metadata": {
    "collapsed": false
   },
   "outputs": [],
   "source": [
    "kkeyUpdate(cursor, table, kkeyList)"
   ]
  },
  {
   "cell_type": "code",
   "execution_count": null,
   "metadata": {
    "collapsed": false
   },
   "outputs": [],
   "source": [
    "cursor.execute(\"SELECT COUNT(*), kkey FROM {} GROUP BY kkey\".format(table))\n",
    "qry2 = cursor.fetchall()\n",
    "# lessThanK = []\n",
    "# badCount = 0\n",
    "cursor.execute(\"UPDATE \" + table + \" SET kCheckFlag = 'False'\")\n",
    "for row in qry2:\n",
    "    if row[0] >= 5:\n",
    "        cursor.execute('UPDATE ' + table + ' SET kCheckFlag = \"True\" WHERE kkey = \"' + row[1] + '\"')"
   ]
  },
  {
   "cell_type": "code",
   "execution_count": null,
   "metadata": {
    "collapsed": false
   },
   "outputs": [],
   "source": [
    "count_unique_values(cursor, table, \"kCheckFlag\")"
   ]
  },
  {
   "cell_type": "markdown",
   "metadata": {},
   "source": [
    "#### The fateful step where non-k-anonymous records are removed."
   ]
  },
  {
   "cell_type": "code",
   "execution_count": null,
   "metadata": {
    "collapsed": false
   },
   "outputs": [],
   "source": [
    "cursor.execute(\"DELETE FROM {} WHERE kCheckFlag = 'False'\".format(table))"
   ]
  },
  {
   "cell_type": "markdown",
   "metadata": {},
   "source": [
    "#### Be careful to only export the columns you are ok with others seeing. Don't export IP address, original user_id, etc."
   ]
  },
  {
   "cell_type": "code",
   "execution_count": null,
   "metadata": {
    "collapsed": false
   },
   "outputs": [],
   "source": [
    "csvExport(cursor, table, exported_file_path)"
   ]
  },
  {
   "cell_type": "markdown",
   "metadata": {},
   "source": [
    "# Stats on Original File"
   ]
  },
  {
   "cell_type": "code",
   "execution_count": null,
   "metadata": {
    "collapsed": false
   },
   "outputs": [],
   "source": [
    "# Commit the changes, and re-open the database.\n",
    "dbClose(cursor)\n",
    "cursor = dbOpen(db_name)"
   ]
  },
  {
   "cell_type": "code",
   "execution_count": null,
   "metadata": {
    "collapsed": false
   },
   "outputs": [],
   "source": [
    "cursor.execute(\"Pragma table_info({})\".format(pristine_table_name))\n",
    "cursor.fetchall()"
   ]
  },
  {
   "cell_type": "code",
   "execution_count": null,
   "metadata": {
    "collapsed": false
   },
   "outputs": [],
   "source": [
    "cursor.execute(\"SELECT COUNT(*) FROM {}\".format(pristine_table_name))\n",
    "total = cursor.fetchall()[0][0]\n",
    "total"
   ]
  },
  {
   "cell_type": "code",
   "execution_count": null,
   "metadata": {
    "collapsed": false
   },
   "outputs": [],
   "source": [
    "view_qry = count_unique_values(cursor, pristine_table_name, \"viewed\")\n",
    "view_dic = {}\n",
    "for row in view_qry:\n",
    "    view_dic[row[0]] = float(row[1]) / float(total)\n",
    "view_dic"
   ]
  },
  {
   "cell_type": "code",
   "execution_count": null,
   "metadata": {
    "collapsed": false
   },
   "outputs": [],
   "source": [
    "exp_qry = count_unique_values(cursor, pristine_table_name, \"explored\")\n",
    "exp_dic = {}\n",
    "for row in exp_qry:\n",
    "    exp_dic[row[0]] = float(row[1]) / float(total)\n",
    "exp_dic"
   ]
  },
  {
   "cell_type": "code",
   "execution_count": null,
   "metadata": {
    "collapsed": false
   },
   "outputs": [],
   "source": [
    "cert_qry = count_unique_values(cursor, pristine_table_name, \"certified\")\n",
    "cert_dic = {}\n",
    "for row in cert_qry:\n",
    "    cert_dic[row[0]] = float(row[1]) / float(total)\n",
    "cert_dic"
   ]
  },
  {
   "cell_type": "code",
   "execution_count": null,
   "metadata": {
    "collapsed": false
   },
   "outputs": [],
   "source": [
    "gen_qry = count_unique_values(cursor, pristine_table_name, \"gender\")\n",
    "gen_dic = {}\n",
    "gen_total = total\n",
    "for row in gen_qry:\n",
    "    if row[0] == '' or row[0] == 'NA' or row[0] == 'o':\n",
    "        gen_total -= row[1]\n",
    "    else:\n",
    "        gen_dic[row[0]] = float(row[1]) / float(gen_total)\n",
    "gen_dic"
   ]
  },
  {
   "cell_type": "code",
   "execution_count": null,
   "metadata": {
    "collapsed": false
   },
   "outputs": [],
   "source": [
    "age_qry = count_unique_values(cursor, pristine_table_name, \"YoB\")\n",
    "num = 0\n",
    "denom = 0\n",
    "for row in age_qry:\n",
    "    try:\n",
    "        age = 2013 - int(row[0])\n",
    "    except:\n",
    "        continue\n",
    "    num += age * row[1]\n",
    "    denom += row[1]\n",
    "avg_age = float(num) / float(denom)\n",
    "avg_age"
   ]
  },
  {
   "cell_type": "markdown",
   "metadata": {},
   "source": [
    "## Stats on De-identified file"
   ]
  },
  {
   "cell_type": "code",
   "execution_count": null,
   "metadata": {
    "collapsed": false
   },
   "outputs": [],
   "source": [
    "dbClose(cursor)\n",
    "cursor = dbOpen(db_name)"
   ]
  },
  {
   "cell_type": "code",
   "execution_count": null,
   "metadata": {
    "collapsed": false
   },
   "outputs": [],
   "source": [
    "cursor.execute(\"SELECT COUNT(*) FROM {}\".format(table))\n",
    "total = cursor.fetchall()[0][0]\n",
    "total"
   ]
  },
  {
   "cell_type": "code",
   "execution_count": null,
   "metadata": {
    "collapsed": false
   },
   "outputs": [],
   "source": [
    "view_qry = count_unique_values(cursor, table, \"viewed\")\n",
    "view_dic = {}\n",
    "for row in view_qry:\n",
    "    view_dic[row[0]] = float(row[1]) / float(total)\n",
    "view_dic"
   ]
  },
  {
   "cell_type": "code",
   "execution_count": null,
   "metadata": {
    "collapsed": false
   },
   "outputs": [],
   "source": [
    "exp_qry = count_unique_values(cursor, table, \"explored\")\n",
    "exp_dic = {}\n",
    "for row in exp_qry:\n",
    "    exp_dic[row[0]] = float(row[1]) / float(total)\n",
    "exp_dic"
   ]
  },
  {
   "cell_type": "code",
   "execution_count": null,
   "metadata": {
    "collapsed": false
   },
   "outputs": [],
   "source": [
    "cert_qry = count_unique_values(cursor, table, \"certified\")\n",
    "cert_dic = {}\n",
    "for row in cert_qry:\n",
    "    cert_dic[row[0]] = float(row[1]) / float(total)\n",
    "cert_dic"
   ]
  },
  {
   "cell_type": "code",
   "execution_count": null,
   "metadata": {
    "collapsed": false
   },
   "outputs": [],
   "source": [
    "gen_qry = count_unique_values(cursor, table, \"gender\")\n",
    "gen_dic = {}\n",
    "gen_total = total\n",
    "for row in gen_qry:\n",
    "    if row[0] == '' or row[0] == 'NA' or row[0] == 'o':\n",
    "        gen_total -= row[1]\n",
    "    else:\n",
    "        gen_dic[row[0]] = float(row[1]) / float(gen_total)\n",
    "gen_dic"
   ]
  },
  {
   "cell_type": "code",
   "execution_count": null,
   "metadata": {
    "collapsed": false
   },
   "outputs": [],
   "source": [
    "age_qry = count_unique_values(cursor, table, \"YoB\")\n",
    "num = 0\n",
    "denom = 0\n",
    "for row in age_qry:\n",
    "    try:\n",
    "        age = 2013 - int(row[0])\n",
    "    except:\n",
    "        continue\n",
    "    num += age * row[1]\n",
    "    denom += row[1]\n",
    "avg_age = float(num) / float(denom)\n",
    "avg_age"
   ]
  },
  {
   "cell_type": "code",
   "execution_count": null,
   "metadata": {
    "collapsed": false
   },
   "outputs": [],
   "source": [
    "cursor.execute(\"Pragma database_list\")\n",
    "cursor.fetchall()"
   ]
  },
  {
   "cell_type": "code",
   "execution_count": null,
   "metadata": {
    "collapsed": false
   },
   "outputs": [],
   "source": [
    "count_unique_values(cursor, table, \"YoB\")"
   ]
  },
  {
   "cell_type": "code",
   "execution_count": null,
   "metadata": {
    "collapsed": false
   },
   "outputs": [],
   "source": [
    "uMatrix - preUmatrix\n",
    "# This one taken after K-Anonymous"
   ]
  },
  {
   "cell_type": "markdown",
   "metadata": {},
   "source": [
    "#### Good to close the db between uses, it compacts the data and prevents an error if you leave a cursor dangling."
   ]
  },
  {
   "cell_type": "code",
   "execution_count": null,
   "metadata": {
    "collapsed": false
   },
   "outputs": [],
   "source": [
    "dbClose(cursor, closeFlag=True)"
   ]
  }
 ],
 "metadata": {},
 "nbformat": 4,
 "nbformat_minor": 0
}
